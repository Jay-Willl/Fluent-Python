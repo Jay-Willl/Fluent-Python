{
 "cells": [
  {
   "cell_type": "markdown",
   "metadata": {},
   "source": [
    "# Generator"
   ]
  },
  {
   "cell_type": "code",
   "execution_count": 3,
   "metadata": {},
   "outputs": [
    {
     "name": "stdout",
     "output_type": "stream",
     "text": [
      "5\n",
      "4\n",
      "3\n",
      "2\n",
      "1\n"
     ]
    }
   ],
   "source": [
    "def gen(num):\n",
    "    while num > 0:\n",
    "        yield num\n",
    "        num -= 1\n",
    "    return\n",
    "\n",
    "g = gen(5)\n",
    "for i in g:\n",
    "    print(i)"
   ]
  },
  {
   "cell_type": "markdown",
   "metadata": {},
   "source": [
    "### 1. Concepts\n",
    "1. Generator 就是一种特殊的 \n",
    "2. 生成器函数和生成器对象\n",
    "- 生成器函数: `gen()`\n",
    "- 生成器对象: g\n",
    "    - 当 python '编译'时发现函数内部存在 `yield` 时, 会给该函数打上一个标签表示该函数是一个生成器函数. 调用生成器函数会生成一个生成器对象(不会返回值, 而是对象).\n",
    "    - 调用 `next()` 来进行下一次 `yield`, 并且在 `yield` 处暂停\n",
    "    - `return` 会抛出 `StopIterationException`, 想要获取真正return的值需要 catch exception\n",
    "3. 和 Iterator 相比, Generator 通过 frame 记录当前的状态(函数运行到哪一步了), 而 Iterator 通过 object 内部变量记录状态\n"
   ]
  },
  {
   "cell_type": "markdown",
   "source": [
    "### 2. A example"
   ],
   "metadata": {
    "collapsed": false
   }
  },
  {
   "cell_type": "code",
   "execution_count": null,
   "metadata": {
    "collapsed": true
   },
   "outputs": [],
   "source": [
    "class NodeIter:\n",
    "    def __init__(self, node):\n",
    "        self.cur_node = node\n",
    "\n",
    "    def __iter__(self):\n",
    "        node = self\n",
    "        while node is not None:\n",
    "            yield node\n",
    "            node = node.next"
   ]
  },
  {
   "cell_type": "markdown",
   "source": [
    "### 3. send(value)\n",
    "1. 恢复执行并向生成器函数“发送”一个值, value 参数将成为当前 yield 表达式的结果\n",
    "2. `g.send(None)` 相当于 `next(g)`"
   ],
   "metadata": {
    "collapsed": false
   }
  },
  {
   "cell_type": "code",
   "execution_count": 7,
   "outputs": [
    {
     "name": "stdout",
     "output_type": "stream",
     "text": [
      "9\n",
      "8\n",
      "7\n",
      "6\n",
      "5\n",
      "4\n",
      "3\n",
      "2\n",
      "1\n"
     ]
    }
   ],
   "source": [
    "def gen(num):\n",
    "    while num > 0:\n",
    "        tmp = yield num\n",
    "        if tmp is not None:\n",
    "            num = tmp\n",
    "        num -= 1\n",
    "\n",
    "g = gen(5)\n",
    "first = next(g)\n",
    "print(g.send(10))\n",
    "for i in g:\n",
    "    print(i)"
   ],
   "metadata": {
    "collapsed": false
   }
  },
  {
   "cell_type": "code",
   "execution_count": null,
   "outputs": [],
   "source": [],
   "metadata": {
    "collapsed": false
   }
  }
 ],
 "metadata": {
  "kernelspec": {
   "display_name": "Python 3 (ipykernel)",
   "language": "python",
   "name": "python3"
  },
  "language_info": {
   "codemirror_mode": {
    "name": "ipython",
    "version": 3
   },
   "file_extension": ".py",
   "mimetype": "text/x-python",
   "name": "python",
   "nbconvert_exporter": "python",
   "pygments_lexer": "ipython3",
   "version": "3.10.9"
  }
 },
 "nbformat": 4,
 "nbformat_minor": 1
}
