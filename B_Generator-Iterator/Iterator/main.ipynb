{
 "cells": [
  {
   "cell_type": "markdown",
   "source": [
    "# Iterator"
   ],
   "metadata": {
    "collapsed": false
   }
  },
  {
   "cell_type": "markdown",
   "source": [
    "### 1. Concepts\n",
    "1. Iterable (可迭代对象)\n",
    "- object with `__iter__()` / `__getitem__()`\n",
    "- for-loop 中的对象必须是一个 Iterable\n",
    "- 'container', 无状态的\n",
    "\n",
    "2. Iterator (迭代器)\n",
    "- object with `__iter__()`, `__next__()`\n",
    "- 一个表示数据流的对象, 使用 `__next__()` 从结构中获取下一个数据, 没有数据时抛出 `StopIterationException`\n",
    "- 'pointer', 有状态的"
   ],
   "metadata": {
    "collapsed": false
   }
  },
  {
   "cell_type": "code",
   "execution_count": null,
   "metadata": {
    "collapsed": true
   },
   "outputs": [],
   "source": [
    "lst = [1, 3, 5]\n",
    "for i in lst:\n",
    "    print(i)\n",
    "\n",
    "# equals to\n",
    "\n",
    "it = iter(lst)\n",
    "for i in it:\n",
    "    print(i)"
   ]
  },
  {
   "cell_type": "markdown",
   "source": [
    "### 2. A example"
   ],
   "metadata": {
    "collapsed": false
   }
  },
  {
   "cell_type": "code",
   "execution_count": null,
   "outputs": [],
   "source": [
    "class NodeIter:\n",
    "    def __init__(self, node):\n",
    "        self.cur_node = node\n",
    "\n",
    "    def __next__(self):\n",
    "        if self.cur_node is None:\n",
    "            raise StopIteration\n",
    "        node, self.cur_node = self.cur_node, self.cur_node.next\n",
    "        return node\n",
    "\n",
    "    def __iter__(self):\n",
    "        return self\n",
    "\n",
    "class Node:\n",
    "    def __init__(self, content):\n",
    "        self.content = content\n",
    "        self.next = None\n",
    "\n",
    "    def __iter__(self):\n",
    "        return NodeIter(self)"
   ],
   "metadata": {
    "collapsed": false
   }
  },
  {
   "cell_type": "markdown",
   "source": [
    "### 3. Illustration\n",
    "1. Why `__iter__()` in Iterator?\n",
    "这样做是为了让每个 Iterator 也是 Iterable\n",
    "在下文中对 it 进行 for-loop, 也就是取 it(iterator) 的 iterator (统一语法问题）\n",
    "所以需要在 Iterator 中也定义一个 `__iter__()` 方法返回 `self`\n",
    "但是 cpython 本身也不总是遵循 Iterator 也是 Iterable 的要求 🤨🧐"
   ],
   "metadata": {
    "collapsed": false
   }
  },
  {
   "cell_type": "code",
   "execution_count": null,
   "outputs": [],
   "source": [
    "# 一个可能的情况\n",
    "it = iter('''some node''')\n",
    "first = next(it)\n",
    "\n",
    "for node in it:\n",
    "    print(node.content)"
   ],
   "metadata": {
    "collapsed": false
   }
  }
 ],
 "metadata": {
  "kernelspec": {
   "display_name": "Python 3",
   "language": "python",
   "name": "python3"
  },
  "language_info": {
   "codemirror_mode": {
    "name": "ipython",
    "version": 2
   },
   "file_extension": ".py",
   "mimetype": "text/x-python",
   "name": "python",
   "nbconvert_exporter": "python",
   "pygments_lexer": "ipython2",
   "version": "2.7.6"
  }
 },
 "nbformat": 4,
 "nbformat_minor": 0
}
